{
 "cells": [
  {
   "cell_type": "code",
   "execution_count": null,
   "metadata": {},
   "outputs": [],
   "source": [
    "\n",
    "\n",
    "\n",
    "# Ejercicio: uso de un modelo entrenado en nuevos datos\n",
    "\n",
    "# En la Unidad 3, creamos un modelo básico que nos permite encontrar la relación entre el tamaño del arnés de un perro y el tamaño de su bota. Mostramos cómo este modelo podría usarse para hacer una predicción sobre un perro nuevo, nunca antes visto.\n",
    "\n",
    "# Es común construir, entrenar y luego usar un modelo mientras estamos aprendiendo sobre el aprendizaje automático; pero en el mundo real, no queremos entrenar el modelo _cada vez_ que queremos hacer una predicción.\n",
    "\n",
    "# Considere nuestro escenario de tienda de equipo para perros de avalanchas:\n",
    "\n",
    "# * Queremos entrenar el modelo solo una vez, luego cargar ese modelo en el servidor que ejecuta nuestra tienda en línea.\n",
    "# * Aunque el modelo está _entrenado_ en un conjunto de datos que descargamos de Internet, en realidad queremos _usarlo_ para estimar el tamaño de las botas de los perros de nuestros clientes que no están en este conjunto de datos.\n",
    "\n",
    "# ¿Cómo podemos hacer esto?\n",
    "\n",
    "# Aquí, vamos a:\n",
    "\n",
    "# 1. Crea un modelo básico\n",
    "# 2. Guárdelo en el disco\n",
    "# 3. Cárgalo desde disco\n",
    "# 4. Úselo para hacer predicciones sobre un perro que no estaba en el conjunto de datos de entrenamiento\n",
    "\n",
    "## Cargar el conjunto de datos\n",
    "\n",
    "#Comencemos abriendo el conjunto de datos desde el archivo."
   ]
  },
  {
   "cell_type": "code",
   "execution_count": 1,
   "metadata": {},
   "outputs": [
    {
     "data": {
      "text/html": [
       "<div>\n",
       "<style scoped>\n",
       "    .dataframe tbody tr th:only-of-type {\n",
       "        vertical-align: middle;\n",
       "    }\n",
       "\n",
       "    .dataframe tbody tr th {\n",
       "        vertical-align: top;\n",
       "    }\n",
       "\n",
       "    .dataframe thead th {\n",
       "        text-align: right;\n",
       "    }\n",
       "</style>\n",
       "<table border=\"1\" class=\"dataframe\">\n",
       "  <thead>\n",
       "    <tr style=\"text-align: right;\">\n",
       "      <th></th>\n",
       "      <th>boot_size</th>\n",
       "      <th>harness_size</th>\n",
       "      <th>sex</th>\n",
       "      <th>age_years</th>\n",
       "    </tr>\n",
       "  </thead>\n",
       "  <tbody>\n",
       "    <tr>\n",
       "      <th>0</th>\n",
       "      <td>39</td>\n",
       "      <td>58</td>\n",
       "      <td>male</td>\n",
       "      <td>12.0</td>\n",
       "    </tr>\n",
       "    <tr>\n",
       "      <th>1</th>\n",
       "      <td>38</td>\n",
       "      <td>58</td>\n",
       "      <td>male</td>\n",
       "      <td>9.6</td>\n",
       "    </tr>\n",
       "    <tr>\n",
       "      <th>2</th>\n",
       "      <td>37</td>\n",
       "      <td>52</td>\n",
       "      <td>female</td>\n",
       "      <td>8.6</td>\n",
       "    </tr>\n",
       "    <tr>\n",
       "      <th>3</th>\n",
       "      <td>39</td>\n",
       "      <td>58</td>\n",
       "      <td>male</td>\n",
       "      <td>10.2</td>\n",
       "    </tr>\n",
       "    <tr>\n",
       "      <th>4</th>\n",
       "      <td>38</td>\n",
       "      <td>57</td>\n",
       "      <td>male</td>\n",
       "      <td>7.8</td>\n",
       "    </tr>\n",
       "  </tbody>\n",
       "</table>\n",
       "</div>"
      ],
      "text/plain": [
       "   boot_size  harness_size     sex  age_years\n",
       "0         39            58    male       12.0\n",
       "1         38            58    male        9.6\n",
       "2         37            52  female        8.6\n",
       "3         39            58    male       10.2\n",
       "4         38            57    male        7.8"
      ]
     },
     "execution_count": 1,
     "metadata": {},
     "output_type": "execute_result"
    }
   ],
   "source": [
    "import pandas\n",
    "\n",
    "data = pandas.read_csv('doggy-boot-harness.csv')\n",
    "\n",
    "data.head()"
   ]
  },
  {
   "cell_type": "code",
   "execution_count": 2,
   "metadata": {},
   "outputs": [
    {
     "name": "stdout",
     "output_type": "stream",
     "text": [
      "Modelo Entrenado\n"
     ]
    }
   ],
   "source": [
    "##creamos un nuevo modelo, usamos regresion lineal simple y  y lo pasamos aun dataset\n",
    "\n",
    "import statsmodels.formula.api as smf\n",
    "\n",
    "##ajustamos el modelo simple que encunetra una cadena de relaciones lineales\n",
    "##entre el tamaño de la bota y el taamño del arnes, que podamos usar mas adelntate\n",
    "#para predecir el tamaño de la bota de un perro, dato el tamaño del arnes\n",
    "model = smf.ols(formula = \"boot_size ~ harness_size\", data = data).fit()\n",
    "\n",
    "print(\"Modelo Entrenado\");\n"
   ]
  },
  {
   "cell_type": "code",
   "execution_count": 3,
   "metadata": {},
   "outputs": [
    {
     "name": "stdout",
     "output_type": "stream",
     "text": [
      "Modelo grabado\n"
     ]
    }
   ],
   "source": [
    "##guardanmos y cargamos nuestro modelo\n",
    "import joblib\n",
    "\n",
    "model_filename = \"./avalanche_dog_boot_model.pk1\"\n",
    "\n",
    "joblib.dump(model,model_filename)\n",
    "\n",
    "print(\"Modelo grabado\")\n",
    "\n",
    "\n"
   ]
  },
  {
   "cell_type": "code",
   "execution_count": 5,
   "metadata": {},
   "outputs": [
    {
     "name": "stdout",
     "output_type": "stream",
     "text": [
      "Tenemos el modelo cargado con los parametros:\n",
      "Intercept       5.719110\n",
      "harness_size    0.585925\n",
      "dtype: float64\n"
     ]
    }
   ],
   "source": [
    "#para cargar nuestro modelo es facil\n",
    "\n",
    "\n",
    "model_loaded = joblib.load(model_filename)\n",
    "\n",
    "\n",
    "print(\"Tenemos el modelo cargado con los parametros:\")\n",
    "print(model_loaded.params)\n",
    "\n"
   ]
  },
  {
   "cell_type": "code",
   "execution_count": 7,
   "metadata": {},
   "outputs": [
    {
     "name": "stdout",
     "output_type": "stream",
     "text": [
      "Hemos cargado un modelo con los siguientes parametros:\n",
      "Intercept       5.719110\n",
      "harness_size    0.585925\n",
      "dtype: float64\n",
      "32.085753565904774\n"
     ]
    }
   ],
   "source": [
    "##poner todo junto para poder predecir\n",
    "\n",
    "#vamos a escribir una funcion que cargue y use nuestro modelo\n",
    "\n",
    "def load_model_and_predict(harness_size):\n",
    "    '''\n",
    "    esta funcion carga u modelo previamente entrenado, ultilizas el modelo con el\n",
    "    tamaño del arnes del perro del cliente para predecir del tamaño\n",
    "    de botas que se ajusta a ese perro\n",
    "    \n",
    "    harness_size el tamaño del arnes del perro en cm\n",
    "    '''\n",
    "    \n",
    "    ##cargamos el modelo desde el archivo e imprimimos informacion basica al respecto\n",
    "    \n",
    "    \n",
    "    loaded_model = joblib.load(model_filename)\n",
    "    \n",
    "    \n",
    "    print(\"Hemos cargado un modelo con los siguientes parametros:\")\n",
    "    print(loaded_model.params)\n",
    "    \n",
    "    ##preparamos datos para el modelo\n",
    "    \n",
    "    inputs = {\"harness_size\":[harness_size]} \n",
    "    \n",
    "    ###usamos el modelo para crear una preddcion\n",
    "    predicted_boot_size = loaded_model.predict(inputs)[0]\n",
    "    \n",
    "    return predicted_boot_size\n",
    "\n",
    "##practicamos usando nuestro modelo\n",
    "\n",
    "predicted_boot_size = load_model_and_predict(45)\n",
    "\n",
    "\n",
    "print('Tamaño de bota de perro previsto',predicted_boot_size)"
   ]
  }
 ],
 "metadata": {
  "kernelspec": {
   "display_name": "MLC",
   "language": "python",
   "name": "python3"
  },
  "language_info": {
   "codemirror_mode": {
    "name": "ipython",
    "version": 3
   },
   "file_extension": ".py",
   "mimetype": "text/x-python",
   "name": "python",
   "nbconvert_exporter": "python",
   "pygments_lexer": "ipython3",
   "version": "3.11.3"
  },
  "orig_nbformat": 4
 },
 "nbformat": 4,
 "nbformat_minor": 2
}
